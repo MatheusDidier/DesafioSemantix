{
 "cells": [
  {
   "cell_type": "markdown",
   "metadata": {},
   "source": [
    "# Verificando as variaveis de contexto do spark"
   ]
  },
  {
   "cell_type": "code",
   "execution_count": 1,
   "metadata": {},
   "outputs": [
    {
     "data": {
      "text/html": [
       "\n",
       "        <div>\n",
       "            <p><b>SparkContext</b></p>\n",
       "\n",
       "            <p><a href=\"http://10.0.2.15:4040\">Spark UI</a></p>\n",
       "\n",
       "            <dl>\n",
       "              <dt>Version</dt>\n",
       "                <dd><code>v2.2.1</code></dd>\n",
       "              <dt>Master</dt>\n",
       "                <dd><code>local[*]</code></dd>\n",
       "              <dt>AppName</dt>\n",
       "                <dd><code>PySparkShell</code></dd>\n",
       "            </dl>\n",
       "        </div>\n",
       "        "
      ],
      "text/plain": [
       "<SparkContext master=local[*] appName=PySparkShell>"
      ]
     },
     "execution_count": 1,
     "metadata": {},
     "output_type": "execute_result"
    }
   ],
   "source": [
    "sc"
   ]
  },
  {
   "cell_type": "code",
   "execution_count": 2,
   "metadata": {},
   "outputs": [
    {
     "data": {
      "text/html": [
       "\n",
       "            <div>\n",
       "                <p><b>SparkSession - hive</b></p>\n",
       "                \n",
       "        <div>\n",
       "            <p><b>SparkContext</b></p>\n",
       "\n",
       "            <p><a href=\"http://10.0.2.15:4040\">Spark UI</a></p>\n",
       "\n",
       "            <dl>\n",
       "              <dt>Version</dt>\n",
       "                <dd><code>v2.2.1</code></dd>\n",
       "              <dt>Master</dt>\n",
       "                <dd><code>local[*]</code></dd>\n",
       "              <dt>AppName</dt>\n",
       "                <dd><code>PySparkShell</code></dd>\n",
       "            </dl>\n",
       "        </div>\n",
       "        \n",
       "            </div>\n",
       "        "
      ],
      "text/plain": [
       "<pyspark.sql.session.SparkSession at 0x66b3bd8898>"
      ]
     },
     "execution_count": 2,
     "metadata": {},
     "output_type": "execute_result"
    }
   ],
   "source": [
    "spark"
   ]
  },
  {
   "cell_type": "markdown",
   "metadata": {},
   "source": [
    "# Fazendo a leitura dos arquivos de log da nasa"
   ]
  },
  {
   "cell_type": "code",
   "execution_count": 3,
   "metadata": {
    "collapsed": true
   },
   "outputs": [],
   "source": [
    "logJulRdd = sc.textFile(\"C:\\\\Users\\\\Matheus\\\\Documents\\\\nasa\\\\access_log_Jul95\")\n",
    "logAgoRdd = sc.textFile(\"C:\\\\Users\\\\Matheus\\\\Documents\\\\nasa\\\\access_log_Aug95\")"
   ]
  },
  {
   "cell_type": "raw",
   "metadata": {
    "collapsed": true
   },
   "source": [
    "Criando o cabeçalho do DataFrame para as coleções capturadas"
   ]
  },
  {
   "cell_type": "code",
   "execution_count": 4,
   "metadata": {
    "collapsed": true
   },
   "outputs": [],
   "source": [
    "headerLog = [\"hostname\", \"dataRequisicao\", \"requisicao\", \"codigoRetorno\", \"totalBytes\"]"
   ]
  },
  {
   "cell_type": "markdown",
   "metadata": {},
   "source": [
    "#  Função responsável por separar linhas do log"
   ]
  },
  {
   "cell_type": "code",
   "execution_count": 5,
   "metadata": {
    "collapsed": true
   },
   "outputs": [],
   "source": [
    "def separadorDeLinha(linha):\n",
    "    \n",
    "    try:\n",
    "        #Criando variavel responsavel por manipular minha linha\n",
    "        linhaAux = linha\n",
    "        #Capturando Hostname\n",
    "        hostname = linha[:linha.index('[')].strip().split(\" \")[0]\n",
    "        #Capturando timestamp\n",
    "        comecoTimestamp = linhaAux.index(\"[\") + 1\n",
    "        fimTimestamp = linhaAux.index(\"]\")\n",
    "        timestamp = linhaAux[comecoTimestamp:fimTimestamp].strip()\n",
    "        timestamp = timestamp[:11]\n",
    "        #Manipulando linha original, para trabalhar com uma linha menor, ignorando a parte que já foi capturada!\n",
    "        linhaAux = linhaAux[fimTimestamp + 1:]\n",
    "        #Capturando requisicao\n",
    "        comecoRequisicao = linhaAux.index('\"') + 1\n",
    "        linhaAux = linhaAux[comecoRequisicao:]\n",
    "        linhaContrario = linhaAux[::-1]\n",
    "        fimRequisicao = len(linhaAux) - linhaContrario.index('\"') - 1\n",
    "        requisicao = linhaAux[:fimRequisicao].strip()\n",
    "        linhaAux = linhaAux[fimRequisicao + 1:]\n",
    "        #Como manipulei minha linha, sobraram agora apenas o codigo retorno e o totalBytes, que estão separados por espaço\n",
    "        linhaAux = linhaAux.strip()\n",
    "        arrayCodigoETotalBytes = linhaAux.strip().split(\" \")\n",
    "        #Obtendo codigo retorno\n",
    "        codigoRetorno = arrayCodigoETotalBytes[0]\n",
    "        \n",
    "        #Obtendo total de bytes\n",
    "    except:\n",
    "        return \"Error\" \n",
    "    try:\n",
    "        totalBytes = arrayCodigoETotalBytes[1]\n",
    "    except:\n",
    "        totalBytes = \"0\"\n",
    "    return hostname + \";\"+ timestamp + \";\" + requisicao + \";\" + codigoRetorno + \";\" + totalBytes    "
   ]
  },
  {
   "cell_type": "markdown",
   "metadata": {},
   "source": [
    "# Construção do DataFrame"
   ]
  },
  {
   "cell_type": "code",
   "execution_count": 6,
   "metadata": {
    "collapsed": true
   },
   "outputs": [],
   "source": [
    "\n",
    "bodyJul = logJulRdd.map(lambda x: separadorDeLinha(x)).filter(lambda x: x != \"Error\")\n",
    "bodyAgo = logAgoRdd.map(lambda x: separadorDeLinha(x)).filter(lambda x: x != \"Error\")"
   ]
  },
  {
   "cell_type": "code",
   "execution_count": 7,
   "metadata": {
    "collapsed": true
   },
   "outputs": [],
   "source": [
    "dfLogJul = bodyJul.map(lambda x: x.split(';')).filter(lambda x: len(x) == 5).toDF(headerLog)\n",
    "dfLogAgo = bodyAgo.map(lambda x: x.split(';')).filter(lambda x: len(x) == 5).toDF(headerLog)"
   ]
  },
  {
   "cell_type": "code",
   "execution_count": 8,
   "metadata": {
    "collapsed": true
   },
   "outputs": [],
   "source": [
    "\n",
    "dfLogUniao = dfLogJul.union(dfLogAgo)\n",
    "dfLogUniao = dfLogUniao.selectExpr(\"hostname\", \"dataRequisicao\", \"requisicao\", \"cast(codigoRetorno as int)\", \"cast(totalBytes as float)\")"
   ]
  },
  {
   "cell_type": "code",
   "execution_count": 9,
   "metadata": {
    "collapsed": true
   },
   "outputs": [],
   "source": [
    "\n",
    "from pyspark.sql import SQLContext\n",
    "sqlContext = SQLContext(sc)\n"
   ]
  },
  {
   "cell_type": "markdown",
   "metadata": {},
   "source": [
    "# Resolvendo exercicios propostos no desafio"
   ]
  },
  {
   "cell_type": "code",
   "execution_count": 13,
   "metadata": {
    "scrolled": true
   },
   "outputs": [
    {
     "name": "stdout",
     "output_type": "stream",
     "text": [
      "+--------------------+--------------+--------------------+-------------+----------+\n",
      "|            hostname|dataRequisicao|          requisicao|codigoRetorno|totalBytes|\n",
      "+--------------------+--------------+--------------------+-------------+----------+\n",
      "|        199.72.81.55|   01/Jul/1995|GET /history/apol...|          200|    6245.0|\n",
      "|unicomp6.unicomp.net|   01/Jul/1995|GET /shuttle/coun...|          200|    3985.0|\n",
      "|      199.120.110.21|   01/Jul/1995|GET /shuttle/miss...|          200|    4085.0|\n",
      "|  burger.letters.com|   01/Jul/1995|GET /shuttle/coun...|          304|       0.0|\n",
      "|      199.120.110.21|   01/Jul/1995|GET /shuttle/miss...|          200|    4179.0|\n",
      "|  burger.letters.com|   01/Jul/1995|GET /images/NASA-...|          304|       0.0|\n",
      "|  burger.letters.com|   01/Jul/1995|GET /shuttle/coun...|          200|       0.0|\n",
      "|     205.212.115.106|   01/Jul/1995|GET /shuttle/coun...|          200|    3985.0|\n",
      "|         d104.aa.net|   01/Jul/1995|GET /shuttle/coun...|          200|    3985.0|\n",
      "|      129.94.144.152|   01/Jul/1995|      GET / HTTP/1.0|          200|    7074.0|\n",
      "|unicomp6.unicomp.net|   01/Jul/1995|GET /shuttle/coun...|          200|   40310.0|\n",
      "|unicomp6.unicomp.net|   01/Jul/1995|GET /images/NASA-...|          200|     786.0|\n",
      "|unicomp6.unicomp.net|   01/Jul/1995|GET /images/KSC-l...|          200|    1204.0|\n",
      "|         d104.aa.net|   01/Jul/1995|GET /shuttle/coun...|          200|   40310.0|\n",
      "|         d104.aa.net|   01/Jul/1995|GET /images/NASA-...|          200|     786.0|\n",
      "|         d104.aa.net|   01/Jul/1995|GET /images/KSC-l...|          200|    1204.0|\n",
      "|      129.94.144.152|   01/Jul/1995|GET /images/ksclo...|          304|       0.0|\n",
      "|      199.120.110.21|   01/Jul/1995|GET /images/launc...|          200|    1713.0|\n",
      "|ppptky391.asahi-n...|   01/Jul/1995|GET /facts/about_...|          200|    3977.0|\n",
      "|  net-1-141.eden.com|   01/Jul/1995|GET /shuttle/miss...|          200|   34029.0|\n",
      "+--------------------+--------------+--------------------+-------------+----------+\n",
      "only showing top 20 rows\n",
      "\n"
     ]
    }
   ],
   "source": [
    "dfLogUniao.createOrReplaceTempView(\"LogNasa\")\n",
    "\n"
   ]
  },
  {
   "cell_type": "markdown",
   "metadata": {},
   "source": [
    "# Iniciando as respostas às questões do desafio"
   ]
  },
  {
   "cell_type": "markdown",
   "metadata": {},
   "source": [
    "Número de hosts únicos"
   ]
  },
  {
   "cell_type": "code",
   "execution_count": 12,
   "metadata": {},
   "outputs": [
    {
     "name": "stdout",
     "output_type": "stream",
     "text": [
      "+------------------------+\n",
      "|count(DISTINCT hostname)|\n",
      "+------------------------+\n",
      "|                  137978|\n",
      "+------------------------+\n",
      "\n"
     ]
    }
   ],
   "source": [
    "sqlContext.sql(\"select count(distinct(hostname)) from LogNasa\").show()"
   ]
  },
  {
   "cell_type": "markdown",
   "metadata": {},
   "source": [
    "O total de erros 404"
   ]
  },
  {
   "cell_type": "code",
   "execution_count": 14,
   "metadata": {},
   "outputs": [
    {
     "name": "stdout",
     "output_type": "stream",
     "text": [
      "+--------------------+\n",
      "|count(codigoRetorno)|\n",
      "+--------------------+\n",
      "|               20895|\n",
      "+--------------------+\n",
      "\n"
     ]
    }
   ],
   "source": [
    "sqlContext.sql(\"select count(codigoRetorno) from LogNasa where codigoRetorno = 404\").show()"
   ]
  },
  {
   "cell_type": "markdown",
   "metadata": {},
   "source": [
    "Os 5 URLs que causaram mais erros 404"
   ]
  },
  {
   "cell_type": "code",
   "execution_count": 15,
   "metadata": {},
   "outputs": [
    {
     "name": "stdout",
     "output_type": "stream",
     "text": [
      "+---------------------------+--------------------+\n",
      "|hostname                   |count(codigoRetorno)|\n",
      "+---------------------------+--------------------+\n",
      "|hoohoo.ncsa.uiuc.edu       |251                 |\n",
      "|piweba3y.prodigy.com       |155                 |\n",
      "|jbiagioni.npt.nuwc.navy.mil|132                 |\n",
      "|piweba1y.prodigy.com       |114                 |\n",
      "|www-d4.proxy.aol.com       |91                  |\n",
      "+---------------------------+--------------------+\n",
      "\n"
     ]
    }
   ],
   "source": [
    "sqlContext.sql(\"select hostname, count(codigoRetorno) from LogNasa where codigoRetorno = 404 group by hostname order by count(codigoRetorno) desc limit 5\").show(truncate=False)"
   ]
  },
  {
   "cell_type": "markdown",
   "metadata": {},
   "source": [
    "Quantidade de erros 404 por dia"
   ]
  },
  {
   "cell_type": "code",
   "execution_count": 26,
   "metadata": {},
   "outputs": [],
   "source": [
    "dfErrosPorDia = sqlContext.sql(\"select dataRequisicao, count(codigoRetorno) as totalCodigoRetorno from LogNasa where codigoRetorno = 404 group by dataRequisicao order by dataRequisicao\")"
   ]
  },
  {
   "cell_type": "code",
   "execution_count": 27,
   "metadata": {
    "collapsed": true
   },
   "outputs": [],
   "source": [
    "dfErrosPorDia.createOrReplaceTempView(\"erros\")"
   ]
  },
  {
   "cell_type": "code",
   "execution_count": 29,
   "metadata": {},
   "outputs": [
    {
     "name": "stdout",
     "output_type": "stream",
     "text": [
      "+-----------------------+\n",
      "|avg(totalCodigoRetorno)|\n",
      "+-----------------------+\n",
      "|      360.2586206896552|\n",
      "+-----------------------+\n",
      "\n"
     ]
    }
   ],
   "source": [
    "sqlContext.sql(\"select avg(totalCodigoRetorno) from erros\").show()"
   ]
  },
  {
   "cell_type": "markdown",
   "metadata": {},
   "source": [
    "Total de bytes"
   ]
  },
  {
   "cell_type": "code",
   "execution_count": 32,
   "metadata": {},
   "outputs": [
    {
     "name": "stdout",
     "output_type": "stream",
     "text": [
      "+---------------+\n",
      "|sum(totalBytes)|\n",
      "+---------------+\n",
      "|6.5524314098E10|\n",
      "+---------------+\n",
      "\n"
     ]
    }
   ],
   "source": [
    "sqlContext.sql(\"select sum(totalBytes) from LogNasa\").show()"
   ]
  },
  {
   "cell_type": "code",
   "execution_count": null,
   "metadata": {
    "collapsed": true
   },
   "outputs": [],
   "source": []
  }
 ],
 "metadata": {
  "kernelspec": {
   "display_name": "Python 3",
   "language": "python",
   "name": "python3"
  },
  "language_info": {
   "codemirror_mode": {
    "name": "ipython",
    "version": 3
   },
   "file_extension": ".py",
   "mimetype": "text/x-python",
   "name": "python",
   "nbconvert_exporter": "python",
   "pygments_lexer": "ipython3",
   "version": "3.6.1"
  }
 },
 "nbformat": 4,
 "nbformat_minor": 2
}
